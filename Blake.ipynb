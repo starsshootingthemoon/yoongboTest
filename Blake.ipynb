{
 "cells": [
  {
   "cell_type": "code",
   "execution_count": 2,
   "metadata": {},
   "outputs": [
    {
     "name": "stdout",
     "output_type": "stream",
     "text": [
      "hello world\n"
     ]
    }
   ],
   "source": [
    "print(\"hello world\")\n",
    "a = \"절 집에 보내 주세요\""
   ]
  },
  {
   "cell_type": "code",
   "execution_count": 3,
   "metadata": {},
   "outputs": [
    {
     "name": "stdout",
     "output_type": "stream",
     "text": [
      "절 집에 보내 주세요\n"
     ]
    }
   ],
   "source": [
    "print (a)"
   ]
  },
  {
   "cell_type": "code",
   "execution_count": 6,
   "metadata": {},
   "outputs": [
    {
     "name": "stdout",
     "output_type": "stream",
     "text": [
      "sha256: 461261.03 ns/iteration\n",
      "blake2b: 1098407.27 ns/iteration\n",
      "md5: 1927847.15 ns/iteration\n"
     ]
    }
   ],
   "source": [
    "import hashlib\n",
    "import time\n",
    "\n",
    "def hash_with_algorithm(algorithm, data):\n",
    "   \"\"\"\n",
    "   주어진 해시 알고리즘과 데이터로 해시값을 생성하는 함수\n",
    "\n",
    "   Args:\n",
    "       algorithm (str): 해시 알고리즘 이름 (e.g. 'sha256', 'blake2b', 'md5')\n",
    "       data (bytes): 해시할 데이터\n",
    "\n",
    "   Returns:\n",
    "       str: 해시된 데이터의 16진수 문자열\n",
    "   \"\"\"\n",
    "   h = hashlib.new(algorithm)\n",
    "   h.update(data)\n",
    "   return h.hexdigest()\n",
    "\n",
    "def benchmark_hash(algorithm, data, iterations):\n",
    "   \"\"\"\n",
    "   주어진 해시 알고리즘, 데이터, 반복 횟수로 해시 함수의 수행 속도를 측정하는 함수\n",
    "\n",
    "   Args:\n",
    "       algorithm (str): 해시 알고리즘 이름 (e.g. 'sha256', 'blake2b', 'md5')\n",
    "       data (bytes): 해시할 데이터\n",
    "       iterations (int): 해시 함수 실행 반복 횟수\n",
    "\n",
    "   Returns:\n",
    "       None\n",
    "   \"\"\"\n",
    "   start_time = time.time()\n",
    "   for _ in range(iterations):\n",
    "       hash_with_algorithm(algorithm, data)\n",
    "   end_time = time.time()\n",
    "   duration = end_time - start_time\n",
    "   print(f\"{algorithm}: {duration / iterations * 1e9:.2f} ns/iteration\")\n",
    "\n",
    "def main():\n",
    "   \"\"\"\n",
    "   사용자로부터 문자열을 입력받고, 주요 해시 알고리즘의 수행 속도를 측정하는 메인 함수\n",
    "   \"\"\"\n",
    "   # 사용자로부터 문자열 입력받기\n",
    "   user_input = input(\"문자열을 입력하세요 : \")\n",
    "\n",
    "   # 입력 문자열을 1MB 크기의 데이터로 만들기\n",
    "   # user_input.encode()는 문자열을 바이트 형태로 변환함\n",
    "   # len(user_input.encode())는 변환된 바이트 문자열의 길이를 구함\n",
    "   # 1024 * 1024는 1MB(1,048,576 바이트)를 나타냄\n",
    "   # 1024 * 1024 // len(user_input.encode())는 1MB를 입력 문자열 바이트 길이로 나눠 반복 횟수를 계산함\n",
    "   # user_input.encode() * (1024 * 1024 // len(user_input.encode()))는 입력 문자열 바이트를 계산된 반복 횟수만큼 반복하여 1MB 크기의 데이터를 생성함\n",
    "   data = (user_input.encode() * (1024 * 1024 // len(user_input.encode())))\n",
    "\n",
    "   # 해시 함수 실행 반복 횟수 설정\n",
    "   iterations = 1000\n",
    "\n",
    "   # SHA-256, BLAKE2b, MD5 해시 알고리즘의 수행 속도 측정 및 출력\n",
    "   benchmark_hash(\"sha256\", data, iterations)\n",
    "   benchmark_hash(\"blake2b\", data, iterations)\n",
    "   benchmark_hash(\"md5\", data, iterations)\n",
    "\n",
    "if __name__ == \"__main__\":\n",
    "   main()"
   ]
  },
  {
   "cell_type": "code",
   "execution_count": 15,
   "metadata": {},
   "outputs": [
    {
     "name": "stdout",
     "output_type": "stream",
     "text": [
      "BLAKE2b Hash: /private/var/folders/0b/qx5406m92q15l2rkq0d1zf840000gn/T/com.apple.Photos.NSItemProvider/uuid=81278F6E-6A84-43D6-92AC-A066B5B6EBB9&library=1&type=1&mode=1&loc=true&cap=true.jpeg/IMG_7946.jpeg: fb7403a0cd79a0c918d4d27081ee601e594a60aea667338cf5b135c6c86e9030f89a8e3d25ab2082ecb8194b86122d90f3b2d9622a9e2170dcc9af7a45cebad4\n"
     ]
    },
    {
     "ename": "KeyboardInterrupt",
     "evalue": "",
     "output_type": "error",
     "traceback": [
      "\u001b[0;31m---------------------------------------------------------------------------\u001b[0m",
      "\u001b[0;31mKeyboardInterrupt\u001b[0m                         Traceback (most recent call last)",
      "Cell \u001b[0;32mIn[15], line 36\u001b[0m\n\u001b[1;32m     33\u001b[0m hash_label \u001b[38;5;241m=\u001b[39m tk\u001b[38;5;241m.\u001b[39mLabel(root, text\u001b[38;5;241m=\u001b[39m\u001b[38;5;124m\"\u001b[39m\u001b[38;5;124m\"\u001b[39m)  \u001b[38;5;66;03m# 해시 값 레이블 생성\u001b[39;00m\n\u001b[1;32m     34\u001b[0m hash_label\u001b[38;5;241m.\u001b[39mpack(pady\u001b[38;5;241m=\u001b[39m\u001b[38;5;241m10\u001b[39m)  \u001b[38;5;66;03m# 레이블 배치\u001b[39;00m\n\u001b[0;32m---> 36\u001b[0m root\u001b[38;5;241m.\u001b[39mmainloop()\n",
      "File \u001b[0;32m/opt/anaconda3/lib/python3.11/tkinter/__init__.py:1485\u001b[0m, in \u001b[0;36mMisc.mainloop\u001b[0;34m(self, n)\u001b[0m\n\u001b[1;32m   1483\u001b[0m \u001b[38;5;28;01mdef\u001b[39;00m \u001b[38;5;21mmainloop\u001b[39m(\u001b[38;5;28mself\u001b[39m, n\u001b[38;5;241m=\u001b[39m\u001b[38;5;241m0\u001b[39m):\n\u001b[1;32m   1484\u001b[0m \u001b[38;5;250m    \u001b[39m\u001b[38;5;124;03m\"\"\"Call the mainloop of Tk.\"\"\"\u001b[39;00m\n\u001b[0;32m-> 1485\u001b[0m     \u001b[38;5;28mself\u001b[39m\u001b[38;5;241m.\u001b[39mtk\u001b[38;5;241m.\u001b[39mmainloop(n)\n",
      "\u001b[0;31mKeyboardInterrupt\u001b[0m: "
     ]
    }
   ],
   "source": [
    "import tkinter as tk  # tkinter GUI 라이브러리 임포트\n",
    "from tkinter import filedialog  # tkinter 파일 대화상자 모듈 임포트\n",
    "from PIL import Image, ImageTk  # Pillow 라이브러리에서 이미지 처리와 PhotoImage 클래스 임포트\n",
    "from hashlib import blake2b  # BLAKE2 해시 함수 구현 라이브러리 임포트\n",
    "\n",
    "def open_image():  # 이미지 열기 함수\n",
    "    file_path = filedialog.askopenfilename()  # 파일 대화상자를 열고 선택한 파일 경로를 가져옴\n",
    "    if file_path:  # 파일이 선택된 경우\n",
    "        image = Image.open(file_path)  # 이미지 파일을 열기\n",
    "        image = image.resize((400, 400), Image.LANCZOS)  # 이미지 크기 조정\n",
    "        photo = ImageTk.PhotoImage(image)  # PhotoImage 객체 생성\n",
    "        image_label.configure(image=photo)  # 레이블에 이미지 설정\n",
    "        image_label.image = photo  # 레퍼런스 유지를 위해 이미지 객체 저장\n",
    "\n",
    "        hash_value = hash_image(file_path)  # 이미지 파일의 해시 값 계산\n",
    "        hash_label.configure(text=f\"BLAKE2b Hash: {hash_value}\")  # 레이블에 해시 값 표시\n",
    "        print(f\"BLAKE2b Hash: {file_path}: {hash_value}\") # 콘솔에 해시 값 출력\n",
    "\n",
    "def hash_image(file_path):  # 이미지 해시 계산 함수\n",
    "    with open(file_path, 'rb') as f:  # 이미지 파일을 바이너리 모드로 열기\n",
    "        image_data = f.read()  # 이미지 바이너리 데이터 읽기\n",
    "    return blake2b(image_data).hexdigest()  # BLAKE2b 해시 계산 및 16진수 문자열 반환\n",
    "\n",
    "root = tk.Tk()  # tkinter 루트 창 생성\n",
    "root.title(\"Image Hash Generator\")  # 창 제목 설정\n",
    "\n",
    "open_button = tk.Button(root, text=\"Open Image\", command=open_image)  # 이미지 열기 버튼 생성\n",
    "open_button.pack(pady=10)  # 버튼 배치\n",
    "\n",
    "image_label = tk.Label(root)  # 이미지 레이블 생성\n",
    "image_label.pack(pady=10)  # 레이블 배치\n",
    "\n",
    "hash_label = tk.Label(root, text=\"\")  # 해시 값 레이블 생성\n",
    "hash_label.pack(pady=10)  # 레이블 배치\n",
    "\n",
    "root.mainloop()  # tkinter 메인 루프 실행"
   ]
  },
  {
   "cell_type": "markdown",
   "metadata": {},
   "source": [
    "BLAKE2b Hash: /private/var/folders/0b/qx5406m92q15l2rkq0d1zf840000gn/T/com.apple.Photos.NSItemProvider/uuid=81278F6E-6A84-43D6-92AC-A066B5B6EBB9&library=1&type=1&mode=1&loc=true&cap=true.png/IMG_7946.png: 9118785010cdd638d16dc16f22e59de4d131e409edff99dff1264b012403bbe7ee2c9b327ccf0c4e8caf189cbb87d482b62851ab7d9f12e4b2c5c640c85d1d1b"
   ]
  },
  {
   "cell_type": "markdown",
   "metadata": {},
   "source": [
    "BLAKE2b Hash: /private/var/folders/0b/qx5406m92q15l2rkq0d1zf840000gn/T/com.apple.Photos.NSItemProvider/uuid=81278F6E-6A84-43D6-92AC-A066B5B6EBB9&library=1&type=1&mode=1&loc=true&cap=true.jpeg/IMG_7946.jpeg: fb7403a0cd79a0c918d4d27081ee601e594a60aea667338cf5b135c6c86e9030f89a8e3d25ab2082ecb8194b86122d90f3b2d9622a9e2170dcc9af7a45cebad4"
   ]
  }
 ],
 "metadata": {
  "kernelspec": {
   "display_name": "base",
   "language": "python",
   "name": "python3"
  },
  "language_info": {
   "codemirror_mode": {
    "name": "ipython",
    "version": 3
   },
   "file_extension": ".py",
   "mimetype": "text/x-python",
   "name": "python",
   "nbconvert_exporter": "python",
   "pygments_lexer": "ipython3",
   "version": "3.11.7"
  }
 },
 "nbformat": 4,
 "nbformat_minor": 2
}
